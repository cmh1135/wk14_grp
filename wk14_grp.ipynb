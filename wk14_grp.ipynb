{
 "cells": [
  {
   "cell_type": "markdown",
   "id": "a1630733",
   "metadata": {},
   "source": [
    "## 1.Using the documentation for Recursive Feature Selection, apply this process to the crime dataset to create the best multivariate linear regression model\n",
    "https://scikit-learn.org/stable/modules/generated/sklearn.feature_selection.RFE.html \n",
    "\n",
    "You can select what you’re trying to predict, but be sure to indicate what that is. Be sure\n",
    "to explain what RFE is in the markdown. You should be able to answer this using what’s\n",
    "on the documentation page + what you already know.\n"
   ]
  },
  {
   "cell_type": "markdown",
   "id": "33233b6a",
   "metadata": {},
   "source": [
    "## Recursive Feature Elimination selects the best features through repetitive processing / fitting of all the features in a set. Steps include fitting the algorithm,then ranking its features by importance, eliminating the least important features, and re-fitting until the required number of features is obtained.  "
   ]
  },
  {
   "cell_type": "code",
   "execution_count": 15,
   "id": "a3d7857c",
   "metadata": {},
   "outputs": [
    {
     "data": {
      "text/html": [
       "<div>\n",
       "<style scoped>\n",
       "    .dataframe tbody tr th:only-of-type {\n",
       "        vertical-align: middle;\n",
       "    }\n",
       "\n",
       "    .dataframe tbody tr th {\n",
       "        vertical-align: top;\n",
       "    }\n",
       "\n",
       "    .dataframe thead th {\n",
       "        text-align: right;\n",
       "    }\n",
       "</style>\n",
       "<table border=\"1\" class=\"dataframe\">\n",
       "  <thead>\n",
       "    <tr style=\"text-align: right;\">\n",
       "      <th></th>\n",
       "      <th>X1</th>\n",
       "      <th>X2</th>\n",
       "      <th>X3</th>\n",
       "      <th>X4</th>\n",
       "      <th>X5</th>\n",
       "      <th>X6</th>\n",
       "      <th>X7</th>\n",
       "    </tr>\n",
       "  </thead>\n",
       "  <tbody>\n",
       "    <tr>\n",
       "      <th>0</th>\n",
       "      <td>478</td>\n",
       "      <td>184</td>\n",
       "      <td>40</td>\n",
       "      <td>74</td>\n",
       "      <td>11</td>\n",
       "      <td>31</td>\n",
       "      <td>20</td>\n",
       "    </tr>\n",
       "    <tr>\n",
       "      <th>1</th>\n",
       "      <td>494</td>\n",
       "      <td>213</td>\n",
       "      <td>32</td>\n",
       "      <td>72</td>\n",
       "      <td>11</td>\n",
       "      <td>43</td>\n",
       "      <td>18</td>\n",
       "    </tr>\n",
       "    <tr>\n",
       "      <th>2</th>\n",
       "      <td>643</td>\n",
       "      <td>347</td>\n",
       "      <td>57</td>\n",
       "      <td>70</td>\n",
       "      <td>18</td>\n",
       "      <td>16</td>\n",
       "      <td>16</td>\n",
       "    </tr>\n",
       "    <tr>\n",
       "      <th>3</th>\n",
       "      <td>341</td>\n",
       "      <td>565</td>\n",
       "      <td>31</td>\n",
       "      <td>71</td>\n",
       "      <td>11</td>\n",
       "      <td>25</td>\n",
       "      <td>19</td>\n",
       "    </tr>\n",
       "    <tr>\n",
       "      <th>4</th>\n",
       "      <td>773</td>\n",
       "      <td>327</td>\n",
       "      <td>67</td>\n",
       "      <td>72</td>\n",
       "      <td>9</td>\n",
       "      <td>29</td>\n",
       "      <td>24</td>\n",
       "    </tr>\n",
       "  </tbody>\n",
       "</table>\n",
       "</div>"
      ],
      "text/plain": [
       "    X1   X2  X3  X4  X5  X6  X7\n",
       "0  478  184  40  74  11  31  20\n",
       "1  494  213  32  72  11  43  18\n",
       "2  643  347  57  70  18  16  16\n",
       "3  341  565  31  71  11  25  19\n",
       "4  773  327  67  72   9  29  24"
      ]
     },
     "execution_count": 15,
     "metadata": {},
     "output_type": "execute_result"
    }
   ],
   "source": [
    "import numpy as np\n",
    "import pandas as pd\n",
    "import matplotlib.pyplot as plt\n",
    "import seaborn as sns\n",
    "from sklearn.linear_model import LogisticRegression\n",
    "from sklearn.model_selection import train_test_split\n",
    "from sklearn.preprocessing import StandardScaler\n",
    "from sklearn.metrics import confusion_matrix, plot_confusion_matrix, classification_report\n",
    "from sklearn.model_selection import train_test_split\n",
    "from sklearn.metrics import mean_squared_error\n",
    "from sklearn.metrics import r2_score\n",
    "from sklearn.svm import SVR\n",
    "from sklearn.feature_selection import RFE\n",
    "\n",
    "\n",
    "crime_df = pd.read_csv(\"../week_13/crime_data.csv\")\n",
    "crime_df.head()"
   ]
  },
  {
   "cell_type": "code",
   "execution_count": 22,
   "id": "2d3d07f1",
   "metadata": {},
   "outputs": [],
   "source": [
    "X = crime_df.drop('X1', axis=1)\n",
    "y = crime_df['X1']"
   ]
  },
  {
   "cell_type": "code",
   "execution_count": 31,
   "id": "5730f86c",
   "metadata": {},
   "outputs": [
    {
     "name": "stdout",
     "output_type": "stream",
     "text": [
      "[False  True False  True False False]\n"
     ]
    },
    {
     "data": {
      "text/plain": [
       "array([5, 1, 2, 1, 3, 4])"
      ]
     },
     "execution_count": 31,
     "metadata": {},
     "output_type": "execute_result"
    }
   ],
   "source": [
    "estimator = SVR(kernel=\"linear\") # fit estimator that provides information about feature importance \n",
    "selector = RFE(estimator, n_features_to_select=2, step=1) #number of desired features\n",
    "selector = selector.fit(X, y) #\n",
    "\n",
    "print(selector.support_)\n",
    "\n",
    "selector.ranking_ # best features are assigned rank 1"
   ]
  },
  {
   "cell_type": "markdown",
   "id": "a3968819",
   "metadata": {},
   "source": [
    "## 2. Create a list of preprocessing steps you should try when working to build a model. Briefly describe what each step is. Work with your group to come up with the most comprehensive list you can why? "
   ]
  },
  {
   "cell_type": "markdown",
   "id": "1e35d184",
   "metadata": {},
   "source": [
    "We used the following resources: \n",
    "https://towardsdatascience.com/a-checklist-for-data-pre-processing-before-you-build-your-machine-learning-model-91d2d04dc53f\n",
    "https://www.v7labs.com/blog/data-preprocessing-guide\n",
    "\n",
    "Read and complied the following list as a group and typed by Hafsa:\n",
    "\n",
    "1. Cleaning our data\n",
    "- Ignore or fill missing data\n",
    "- Binning, clustering or manually removing noisy data\n",
    "- Make sure data is consistent\n",
    "2. Data Integration\n",
    "- making sure all data attributes and formats match\n",
    "- dropping redundant attributes\n",
    "- resolution and detection of data conflicts\n",
    "3. Data Transformation\n",
    "- transforming low level data to higher level data\n",
    "- using different techniques to scale numerical data to fit within a specified range\n",
    "- new properties of data are created\n",
    "- data can be aggregated in summary format\n",
    "4. Data Reduction\n",
    "- dimensionality reduction to extract features\n",
    "- using encoding techniques to reduce the size of data\n",
    "- divide the attributes of the continuous nature into data with intervals\n",
    "- data can be represented as a model"
   ]
  },
  {
   "cell_type": "code",
   "execution_count": null,
   "id": "52459454",
   "metadata": {},
   "outputs": [],
   "source": []
  },
  {
   "cell_type": "code",
   "execution_count": null,
   "id": "e36a5177",
   "metadata": {},
   "outputs": [],
   "source": []
  },
  {
   "cell_type": "code",
   "execution_count": null,
   "id": "4f90ae14",
   "metadata": {},
   "outputs": [],
   "source": []
  },
  {
   "cell_type": "code",
   "execution_count": null,
   "id": "92b8420a",
   "metadata": {},
   "outputs": [],
   "source": []
  },
  {
   "cell_type": "code",
   "execution_count": null,
   "id": "53f95382",
   "metadata": {},
   "outputs": [],
   "source": []
  }
 ],
 "metadata": {
  "kernelspec": {
   "display_name": "Python 3 (ipykernel)",
   "language": "python",
   "name": "python3"
  },
  "language_info": {
   "codemirror_mode": {
    "name": "ipython",
    "version": 3
   },
   "file_extension": ".py",
   "mimetype": "text/x-python",
   "name": "python",
   "nbconvert_exporter": "python",
   "pygments_lexer": "ipython3",
   "version": "3.9.7"
  }
 },
 "nbformat": 4,
 "nbformat_minor": 5
}
